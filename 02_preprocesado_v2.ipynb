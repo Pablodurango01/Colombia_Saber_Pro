{
 "cells": [
  {
   "metadata": {},
   "cell_type": "markdown",
   "source": [
    "# Data Preprocessing and Classification Notebook\n",
    "\n",
    "This notebook demonstrates how to load the `train.csv` dataset, perform cleaning and preprocessing and train a Random Forest model. We will also display intermediate results and evaluation metrics."
   ],
   "id": "4a67c45c64080c58"
  },
  {
   "cell_type": "code",
   "id": "initial_id",
   "metadata": {
    "collapsed": true,
    "ExecuteTime": {
     "end_time": "2025-05-21T03:35:48.099444Z",
     "start_time": "2025-05-21T03:35:48.084533Z"
    }
   },
   "source": [
    "import pandas as pd\n",
    "import numpy as np\n",
    "from sklearn.model_selection import train_test_split\n",
    "from sklearn.impute import SimpleImputer\n",
    "from sklearn.ensemble import RandomForestClassifier\n",
    "from sklearn.metrics import classification_report, accuracy_score\n",
    "from sklearn.pipeline import Pipeline\n",
    "from sklearn.impute import SimpleImputer\n",
    "from sklearn.compose import ColumnTransformer\n",
    "from sklearn.preprocessing import OneHotEncoder, PowerTransformer, StandardScaler\n",
    "import matplotlib.pyplot as plt\n",
    "import seaborn as sns"
   ],
   "outputs": [],
   "execution_count": 34
  },
  {
   "metadata": {},
   "cell_type": "markdown",
   "source": [
    "## Load the Data\n",
    "We load the dataset from the file `train.csv` and use a sample to reduce memory usage.\n"
   ],
   "id": "bae10a35eede8507"
  },
  {
   "metadata": {
    "ExecuteTime": {
     "end_time": "2025-05-21T03:32:42.749549Z",
     "start_time": "2025-05-21T03:32:39.892614Z"
    }
   },
   "cell_type": "code",
   "source": [
    "# Load the dataset\n",
    "df = pd.read_csv(r'C:\\Users\\nicol\\OneDrive\\Escritorio\\ai_data\\train.csv')\n",
    "df_sample = df.head(20000)\n",
    "print(\"Data shape:\", df_sample.shape)\n",
    "display(df_sample.head())"
   ],
   "id": "ff67f079e71dc39c",
   "outputs": [
    {
     "name": "stdout",
     "output_type": "stream",
     "text": [
      "Data shape: (20000, 21)\n"
     ]
    },
    {
     "data": {
      "text/plain": [
       "       ID  PERIODO         ESTU_PRGM_ACADEMICO ESTU_PRGM_DEPARTAMENTO  \\\n",
       "0  904256    20212                  ENFERMERIA                 BOGOTÁ   \n",
       "1  645256    20212                     DERECHO              ATLANTICO   \n",
       "2  308367    20203       MERCADEO Y PUBLICIDAD                 BOGOTÁ   \n",
       "3  470353    20195  ADMINISTRACION DE EMPRESAS              SANTANDER   \n",
       "4  989032    20212                  PSICOLOGIA              ANTIOQUIA   \n",
       "\n",
       "             ESTU_VALORMATRICULAUNIVERSIDAD ESTU_HORASSEMANATRABAJA  \\\n",
       "0  Entre 5.5 millones y menos de 7 millones       Menos de 10 horas   \n",
       "1  Entre 2.5 millones y menos de 4 millones                       0   \n",
       "2  Entre 2.5 millones y menos de 4 millones         Más de 30 horas   \n",
       "3  Entre 4 millones y menos de 5.5 millones                       0   \n",
       "4  Entre 2.5 millones y menos de 4 millones     Entre 21 y 30 horas   \n",
       "\n",
       "  FAMI_ESTRATOVIVIENDA FAMI_TIENEINTERNET                 FAMI_EDUCACIONPADRE  \\\n",
       "0            Estrato 3                 Si    Técnica o tecnológica incompleta   \n",
       "1            Estrato 3                 No      Técnica o tecnológica completa   \n",
       "2            Estrato 3                 Si  Secundaria (Bachillerato) completa   \n",
       "3            Estrato 4                 Si                             No sabe   \n",
       "4            Estrato 3                 Si                   Primaria completa   \n",
       "\n",
       "  FAMI_TIENELAVADORA  ... ESTU_PRIVADO_LIBERTAD ESTU_PAGOMATRICULAPROPIO  \\\n",
       "0                 Si  ...                     N                       No   \n",
       "1                 Si  ...                     N                       No   \n",
       "2                 Si  ...                     N                       No   \n",
       "3                 Si  ...                     N                       No   \n",
       "4                 Si  ...                     N                       No   \n",
       "\n",
       "  FAMI_TIENECOMPUTADOR FAMI_TIENEINTERNET.1  \\\n",
       "0                   Si                   Si   \n",
       "1                   Si                   No   \n",
       "2                   No                   Si   \n",
       "3                   Si                   Si   \n",
       "4                   Si                   Si   \n",
       "\n",
       "                  FAMI_EDUCACIONMADRE RENDIMIENTO_GLOBAL coef_1  coef_2  \\\n",
       "0                           Postgrado         medio-alto  0.322   0.208   \n",
       "1    Técnica o tecnológica incompleta               bajo  0.311   0.215   \n",
       "2  Secundaria (Bachillerato) completa               bajo  0.297   0.214   \n",
       "3  Secundaria (Bachillerato) completa               alto  0.485   0.172   \n",
       "4                   Primaria completa         medio-bajo  0.316   0.232   \n",
       "\n",
       "   coef_3  coef_4  \n",
       "0   0.310   0.267  \n",
       "1   0.292   0.264  \n",
       "2   0.305   0.264  \n",
       "3   0.252   0.190  \n",
       "4   0.285   0.294  \n",
       "\n",
       "[5 rows x 21 columns]"
      ],
      "text/html": [
       "<div>\n",
       "<style scoped>\n",
       "    .dataframe tbody tr th:only-of-type {\n",
       "        vertical-align: middle;\n",
       "    }\n",
       "\n",
       "    .dataframe tbody tr th {\n",
       "        vertical-align: top;\n",
       "    }\n",
       "\n",
       "    .dataframe thead th {\n",
       "        text-align: right;\n",
       "    }\n",
       "</style>\n",
       "<table border=\"1\" class=\"dataframe\">\n",
       "  <thead>\n",
       "    <tr style=\"text-align: right;\">\n",
       "      <th></th>\n",
       "      <th>ID</th>\n",
       "      <th>PERIODO</th>\n",
       "      <th>ESTU_PRGM_ACADEMICO</th>\n",
       "      <th>ESTU_PRGM_DEPARTAMENTO</th>\n",
       "      <th>ESTU_VALORMATRICULAUNIVERSIDAD</th>\n",
       "      <th>ESTU_HORASSEMANATRABAJA</th>\n",
       "      <th>FAMI_ESTRATOVIVIENDA</th>\n",
       "      <th>FAMI_TIENEINTERNET</th>\n",
       "      <th>FAMI_EDUCACIONPADRE</th>\n",
       "      <th>FAMI_TIENELAVADORA</th>\n",
       "      <th>...</th>\n",
       "      <th>ESTU_PRIVADO_LIBERTAD</th>\n",
       "      <th>ESTU_PAGOMATRICULAPROPIO</th>\n",
       "      <th>FAMI_TIENECOMPUTADOR</th>\n",
       "      <th>FAMI_TIENEINTERNET.1</th>\n",
       "      <th>FAMI_EDUCACIONMADRE</th>\n",
       "      <th>RENDIMIENTO_GLOBAL</th>\n",
       "      <th>coef_1</th>\n",
       "      <th>coef_2</th>\n",
       "      <th>coef_3</th>\n",
       "      <th>coef_4</th>\n",
       "    </tr>\n",
       "  </thead>\n",
       "  <tbody>\n",
       "    <tr>\n",
       "      <th>0</th>\n",
       "      <td>904256</td>\n",
       "      <td>20212</td>\n",
       "      <td>ENFERMERIA</td>\n",
       "      <td>BOGOTÁ</td>\n",
       "      <td>Entre 5.5 millones y menos de 7 millones</td>\n",
       "      <td>Menos de 10 horas</td>\n",
       "      <td>Estrato 3</td>\n",
       "      <td>Si</td>\n",
       "      <td>Técnica o tecnológica incompleta</td>\n",
       "      <td>Si</td>\n",
       "      <td>...</td>\n",
       "      <td>N</td>\n",
       "      <td>No</td>\n",
       "      <td>Si</td>\n",
       "      <td>Si</td>\n",
       "      <td>Postgrado</td>\n",
       "      <td>medio-alto</td>\n",
       "      <td>0.322</td>\n",
       "      <td>0.208</td>\n",
       "      <td>0.310</td>\n",
       "      <td>0.267</td>\n",
       "    </tr>\n",
       "    <tr>\n",
       "      <th>1</th>\n",
       "      <td>645256</td>\n",
       "      <td>20212</td>\n",
       "      <td>DERECHO</td>\n",
       "      <td>ATLANTICO</td>\n",
       "      <td>Entre 2.5 millones y menos de 4 millones</td>\n",
       "      <td>0</td>\n",
       "      <td>Estrato 3</td>\n",
       "      <td>No</td>\n",
       "      <td>Técnica o tecnológica completa</td>\n",
       "      <td>Si</td>\n",
       "      <td>...</td>\n",
       "      <td>N</td>\n",
       "      <td>No</td>\n",
       "      <td>Si</td>\n",
       "      <td>No</td>\n",
       "      <td>Técnica o tecnológica incompleta</td>\n",
       "      <td>bajo</td>\n",
       "      <td>0.311</td>\n",
       "      <td>0.215</td>\n",
       "      <td>0.292</td>\n",
       "      <td>0.264</td>\n",
       "    </tr>\n",
       "    <tr>\n",
       "      <th>2</th>\n",
       "      <td>308367</td>\n",
       "      <td>20203</td>\n",
       "      <td>MERCADEO Y PUBLICIDAD</td>\n",
       "      <td>BOGOTÁ</td>\n",
       "      <td>Entre 2.5 millones y menos de 4 millones</td>\n",
       "      <td>Más de 30 horas</td>\n",
       "      <td>Estrato 3</td>\n",
       "      <td>Si</td>\n",
       "      <td>Secundaria (Bachillerato) completa</td>\n",
       "      <td>Si</td>\n",
       "      <td>...</td>\n",
       "      <td>N</td>\n",
       "      <td>No</td>\n",
       "      <td>No</td>\n",
       "      <td>Si</td>\n",
       "      <td>Secundaria (Bachillerato) completa</td>\n",
       "      <td>bajo</td>\n",
       "      <td>0.297</td>\n",
       "      <td>0.214</td>\n",
       "      <td>0.305</td>\n",
       "      <td>0.264</td>\n",
       "    </tr>\n",
       "    <tr>\n",
       "      <th>3</th>\n",
       "      <td>470353</td>\n",
       "      <td>20195</td>\n",
       "      <td>ADMINISTRACION DE EMPRESAS</td>\n",
       "      <td>SANTANDER</td>\n",
       "      <td>Entre 4 millones y menos de 5.5 millones</td>\n",
       "      <td>0</td>\n",
       "      <td>Estrato 4</td>\n",
       "      <td>Si</td>\n",
       "      <td>No sabe</td>\n",
       "      <td>Si</td>\n",
       "      <td>...</td>\n",
       "      <td>N</td>\n",
       "      <td>No</td>\n",
       "      <td>Si</td>\n",
       "      <td>Si</td>\n",
       "      <td>Secundaria (Bachillerato) completa</td>\n",
       "      <td>alto</td>\n",
       "      <td>0.485</td>\n",
       "      <td>0.172</td>\n",
       "      <td>0.252</td>\n",
       "      <td>0.190</td>\n",
       "    </tr>\n",
       "    <tr>\n",
       "      <th>4</th>\n",
       "      <td>989032</td>\n",
       "      <td>20212</td>\n",
       "      <td>PSICOLOGIA</td>\n",
       "      <td>ANTIOQUIA</td>\n",
       "      <td>Entre 2.5 millones y menos de 4 millones</td>\n",
       "      <td>Entre 21 y 30 horas</td>\n",
       "      <td>Estrato 3</td>\n",
       "      <td>Si</td>\n",
       "      <td>Primaria completa</td>\n",
       "      <td>Si</td>\n",
       "      <td>...</td>\n",
       "      <td>N</td>\n",
       "      <td>No</td>\n",
       "      <td>Si</td>\n",
       "      <td>Si</td>\n",
       "      <td>Primaria completa</td>\n",
       "      <td>medio-bajo</td>\n",
       "      <td>0.316</td>\n",
       "      <td>0.232</td>\n",
       "      <td>0.285</td>\n",
       "      <td>0.294</td>\n",
       "    </tr>\n",
       "  </tbody>\n",
       "</table>\n",
       "<p>5 rows × 21 columns</p>\n",
       "</div>"
      ]
     },
     "metadata": {},
     "output_type": "display_data"
    }
   ],
   "execution_count": 27
  },
  {
   "metadata": {},
   "cell_type": "markdown",
   "source": [
    "## Select Relevant Columns\n",
    "We select a subset of columns for modeling. The target variable is `RENDIMIENTO_GLOBAL` and the features include both categorical and numerical columns.\n"
   ],
   "id": "22e1b2415e28c7f0"
  },
  {
   "metadata": {
    "ExecuteTime": {
     "end_time": "2025-05-21T03:32:45.817533Z",
     "start_time": "2025-05-21T03:32:45.469233Z"
    }
   },
   "cell_type": "code",
   "source": [
    "selected_columns = [\n",
    "    \"ESTU_PRGM_ACADEMICO\",\n",
    "    \"FAMI_ESTRATOVIVIENDA\",\n",
    "    \"FAMI_TIENEINTERNET\",\n",
    "    \"FAMI_EDUCACIONPADRE\",\n",
    "    \"FAMI_TIENECOMPUTADOR\",\n",
    "    \"coef_1\", \"coef_2\", \"coef_3\", \"coef_4\"\n",
    "]\n",
    "\n",
    "X_sample = df_sample[selected_columns]\n",
    "y_sample = df_sample[\"RENDIMIENTO_GLOBAL\"]\n",
    "\n",
    "# Fill missing values for features. In categorical columns we use \"unknown\"\n",
    "X_sample_filled = X_sample.fillna(\"unknown\")"
   ],
   "id": "deabc456598462f6",
   "outputs": [],
   "execution_count": 28
  },
  {
   "metadata": {},
   "cell_type": "markdown",
   "source": [
    "## Preprocess Categorical Data\n",
    "We use one-hot encoding for the categorical features for clarity.\n",
    "Define the categorical and numerical columns for processing."
   ],
   "id": "199f22bbd39b0557"
  },
  {
   "metadata": {
    "ExecuteTime": {
     "end_time": "2025-05-21T03:34:11.668596Z",
     "start_time": "2025-05-21T03:34:08.332785Z"
    }
   },
   "cell_type": "code",
   "source": [
    "cat_cols = [\n",
    "    \"ESTU_PRGM_ACADEMICO\",\n",
    "    \"FAMI_ESTRATOVIVIENDA\",\n",
    "    \"FAMI_TIENEINTERNET\",\n",
    "    \"FAMI_EDUCACIONPADRE\",\n",
    "    \"FAMI_TIENECOMPUTADOR\"\n",
    "]\n",
    "\n",
    "cat_pipeline = Pipeline([\n",
    "    ('imputer', SimpleImputer(strategy='constant', fill_value='Missing')),\n",
    "    ('onehot', OneHotEncoder(handle_unknown='ignore', sparse_output=False)),\n",
    "])\n",
    "\n",
    "# Fit and transform\n",
    "X_cat_processed = cat_pipeline.fit_transform(df[cat_cols])\n",
    "\n",
    "# Build a summary DataFrame\n",
    "onehot_names = cat_pipeline.named_steps['onehot'].get_feature_names_out(cat_cols)\n",
    "summary = []\n",
    "for col in cat_cols:\n",
    "    vc = df[col].value_counts(dropna=False)\n",
    "    summary.append({\n",
    "        'feature': col,\n",
    "        'unique_values': vc.shape[0],\n",
    "        'dummies_created': sum(1 for n in onehot_names if n.startswith(f\"{col}_\")),\n",
    "        'top_3_levels': vc.head(3).index.tolist()\n",
    "    })\n",
    "summary_df = pd.DataFrame(summary)\n",
    "print(\"Categorical encoding summary:\")\n",
    "print(summary_df.to_string(index=False))"
   ],
   "id": "65b242c1d534fc6c",
   "outputs": [
    {
     "name": "stdout",
     "output_type": "stream",
     "text": [
      "Categorical encoding summary:\n",
      "             feature  unique_values  dummies_created                                                                              top_3_levels\n",
      " ESTU_PRGM_ACADEMICO            948              948                                 [DERECHO, ADMINISTRACION DE EMPRESAS, CONTADURIA PUBLICA]\n",
      "FAMI_ESTRATOVIVIENDA              8                8                                                         [Estrato 2, Estrato 3, Estrato 1]\n",
      "  FAMI_TIENEINTERNET              3                3                                                                             [Si, No, nan]\n",
      " FAMI_EDUCACIONPADRE             13               13 [Secundaria (Bachillerato) completa, Primaria incompleta, Educación profesional completa]\n",
      "FAMI_TIENECOMPUTADOR              3                3                                                                             [Si, No, nan]\n"
     ]
    }
   ],
   "execution_count": 32
  },
  {
   "metadata": {},
   "cell_type": "markdown",
   "source": [
    "## Preprocess Numerical Data\n",
    "We convert numerical columns to float, replace string \"na\" values with NaN, impute missing values using the mean strategy, and then standardize them."
   ],
   "id": "40a5e8e0c84fffde"
  },
  {
   "metadata": {
    "ExecuteTime": {
     "end_time": "2025-05-21T03:35:07.096778Z",
     "start_time": "2025-05-21T03:35:01.725301Z"
    }
   },
   "cell_type": "code",
   "source": [
    "num_cols = [\"coef_1\", \"coef_2\", \"coef_3\", \"coef_4\"]\n",
    "\n",
    "num_pipeline = Pipeline([\n",
    "    ('imputer', SimpleImputer(strategy='median')),\n",
    "    ('power', PowerTransformer(method='yeo-johnson', standardize=False)),\n",
    "    ('scaler', StandardScaler()),\n",
    "])\n",
    "\n",
    "# Fit and transform\n",
    "X_num_processed = num_pipeline.fit_transform(df[num_cols])\n",
    "\n",
    "# Quick summary\n",
    "num_summary = pd.DataFrame(X_num_processed, columns=num_cols).describe().T[['mean','std','min','max']]\n",
    "print(\"Numerical features after Power + StandardScaler:\")\n",
    "print(num_summary.to_string())"
   ],
   "id": "ee178a23a5327154",
   "outputs": [
    {
     "name": "stdout",
     "output_type": "stream",
     "text": [
      "Numerical features after Power + StandardScaler:\n",
      "                mean       std       min       max\n",
      "coef_1  5.058449e-17  1.000001 -2.840917  2.549072\n",
      "coef_2 -6.819671e-16  1.000001 -2.477949  2.718592\n",
      "coef_3 -6.549306e-16  1.000001 -2.353291  2.111930\n",
      "coef_4 -1.214849e-16  1.000001 -2.083248  1.951268\n"
     ]
    }
   ],
   "execution_count": 33
  },
  {
   "metadata": {
    "ExecuteTime": {
     "end_time": "2025-05-21T03:36:37.371441Z",
     "start_time": "2025-05-21T03:36:08.213523Z"
    }
   },
   "cell_type": "code",
   "source": [
    "preprocessor = ColumnTransformer([\n",
    "    ('num', num_pipeline, num_cols),\n",
    "    ('cat', cat_pipeline, cat_cols),\n",
    "], remainder='drop')  # drop any other columns\n",
    "\n",
    "# Fit once on full DataFrame\n",
    "X_all = preprocessor.fit_transform(df[num_cols + cat_cols])\n",
    "print(\"Full feature matrix shape after preprocessing:\", X_all.shape)"
   ],
   "id": "24e3051b0a7b9059",
   "outputs": [
    {
     "name": "stdout",
     "output_type": "stream",
     "text": [
      "Full feature matrix shape after preprocessing: (692500, 979)\n"
     ]
    }
   ],
   "execution_count": 35
  },
  {
   "metadata": {},
   "cell_type": "markdown",
   "source": [
    "## Split Data and Train Model\n",
    "We split the data into training and testing sets, then train a Random Forest classifier."
   ],
   "id": "1ff8ea51d0089d47"
  },
  {
   "metadata": {
    "ExecuteTime": {
     "end_time": "2025-05-21T04:01:35.586776Z",
     "start_time": "2025-05-21T03:38:15.765341Z"
    }
   },
   "cell_type": "code",
   "source": [
    "from sklearn.model_selection import train_test_split\n",
    "from sklearn.ensemble import RandomForestClassifier\n",
    "from sklearn.metrics import accuracy_score, classification_report\n",
    "\n",
    "y_all = df['RENDIMIENTO_GLOBAL']\n",
    "\n",
    "# 80/20 stratified split\n",
    "X_train, X_test, y_train, y_test = train_test_split(\n",
    "    X_all, y_all,\n",
    "    test_size=0.2,\n",
    "    random_state=42,\n",
    "    stratify=y_all\n",
    ")\n",
    "\n",
    "clf = RandomForestClassifier(n_estimators=100, random_state=42)\n",
    "clf.fit(X_train, y_train)\n",
    "\n",
    "y_pred = clf.predict(X_test)\n",
    "accuracy = accuracy_score(y_test, y_pred)\n",
    "print(f\"Accuracy: {accuracy:.4f}\")\n",
    "print(classification_report(y_test, y_pred))"
   ],
   "id": "fec17a2e18d5346e",
   "outputs": [
    {
     "name": "stdout",
     "output_type": "stream",
     "text": [
      "Accuracy: 0.3580\n",
      "              precision    recall  f1-score   support\n",
      "\n",
      "        alto       0.45      0.52      0.48     35124\n",
      "        bajo       0.38      0.42      0.40     34597\n",
      "  medio-alto       0.28      0.24      0.26     34324\n",
      "  medio-bajo       0.29      0.26      0.27     34455\n",
      "\n",
      "    accuracy                           0.36    138500\n",
      "   macro avg       0.35      0.36      0.35    138500\n",
      "weighted avg       0.35      0.36      0.35    138500\n",
      "\n"
     ]
    }
   ],
   "execution_count": 36
  },
  {
   "metadata": {},
   "cell_type": "markdown",
   "source": [
    "## Model Evaluation\n",
    "\n",
    "We predict labels for the test set and evaluate the model using accuracy and a detailed classification report.\n",
    "Additionally, a bar plot shows the predicted distribution of performance levels."
   ],
   "id": "f5d90ebbe92ba75b"
  },
  {
   "metadata": {
    "ExecuteTime": {
     "end_time": "2025-05-21T04:05:08.452034Z",
     "start_time": "2025-05-21T04:05:07.698088Z"
    }
   },
   "cell_type": "code",
   "source": [
    "plt.figure(figsize=(8, 4))\n",
    "sns.countplot(x=y_pred)\n",
    "plt.title('Predicted Distribution of Performance Levels')\n",
    "plt.xlabel('Performance Level')\n",
    "plt.ylabel('Count')\n",
    "plt.show()"
   ],
   "id": "af4b47b4ce497be4",
   "outputs": [
    {
     "data": {
      "text/plain": [
       "<Figure size 800x400 with 1 Axes>"
      ],
      "image/png": "[encoded data removed]"
     },
     "metadata": {},
     "output_type": "display_data"
    }
   ],
   "execution_count": 37
  },
  {
   "metadata": {
    "ExecuteTime": {
     "end_time": "2025-05-21T04:05:34.254658Z",
     "start_time": "2025-05-21T04:05:21.674886Z"
    }
   },
   "cell_type": "code",
   "source": [
    "idx = num_cols.index('coef_1')\n",
    "\n",
    "plt.figure(figsize=(10, 6))\n",
    "sns.histplot(X_train[:, idx], kde=True)\n",
    "plt.title('Distribution of Transformed coef_1 (Training Set)')\n",
    "plt.xlabel('Transformed Value')\n",
    "plt.ylabel('Frequency')\n",
    "plt.show()"
   ],
   "id": "364a95b6bdf2dc70",
   "outputs": [
    {
     "data": {
      "text/plain": [
       "<Figure size 1000x600 with 1 Axes>"
      ],
      "image/png": "[encoded data removed]"
     },
     "metadata": {},
     "output_type": "display_data"
    }
   ],
   "execution_count": 38
  }
 ],
 "metadata": {
  "kernelspec": {
   "display_name": "Python 3",
   "language": "python",
   "name": "python3"
  },
  "language_info": {
   "codemirror_mode": {
    "name": "ipython",
    "version": 2
   },
   "file_extension": ".py",
   "mimetype": "text/x-python",
   "name": "python",
   "nbconvert_exporter": "python",
   "pygments_lexer": "ipython2",
   "version": "2.7.6"
  }
 },
 "nbformat": 4,
 "nbformat_minor": 5
}
