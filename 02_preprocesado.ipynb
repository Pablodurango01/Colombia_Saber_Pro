{
  "nbformat": 4,
  "nbformat_minor": 0,
  "metadata": {
    "colab": {
      "provenance": []
    },
    "kernelspec": {
      "name": "python3",
      "display_name": "Python 3"
    },
    "language_info": {
      "name": "python"
    }
  },
  "cells": [
    {
      "cell_type": "code",
      "execution_count": null,
      "metadata": {
        "id": "ZqtVohdvjx2U"
      },
      "outputs": [],
      "source": [
        "import pandas as pd\n",
        "import numpy as np\n",
        "from sklearn.preprocessing import OrdinalEncoder, StandardScaler\n",
        "from sklearn.impute import SimpleImputer\n",
        "\n",
        "# Cargar el CSV\n",
        "df = pd.read_csv(\"train.csv\")\n",
        "\n",
        "# Usamos solo una muestra para evitar errores de memoria\n",
        "df_sample = df.head(20000)\n",
        "\n",
        "# Columnas seleccionadas\n",
        "selected_columns = [\n",
        "    \"ESTU_PRGM_ACADEMICO\",\n",
        "    \"FAMI_ESTRATOVIVIENDA\",\n",
        "    \"FAMI_TIENEINTERNET\",\n",
        "    \"FAMI_EDUCACIONPADRE\",\n",
        "    \"FAMI_TIENECOMPUTADOR\",\n",
        "    \"coef_1\", \"coef_2\", \"coef_3\", \"coef_4\"\n",
        "]\n",
        "\n",
        "X_sample = df_sample[selected_columns]\n",
        "y_sample = df_sample[\"RENDIMIENTO_GLOBAL\"]\n",
        "\n",
        "# Preprocesamiento\n",
        "X_sample_filled = X_sample.fillna(\"desconocido\")\n",
        "\n",
        "cat_cols_simple = [\n",
        "    \"ESTU_PRGM_ACADEMICO\",\n",
        "    \"FAMI_ESTRATOVIVIENDA\",\n",
        "    \"FAMI_TIENEINTERNET\",\n",
        "    \"FAMI_EDUCACIONPADRE\",\n",
        "    \"FAMI_TIENECOMPUTADOR\"\n",
        "]\n",
        "\n",
        "num_cols_simple = [\"coef_1\", \"coef_2\", \"coef_3\", \"coef_4\"]\n",
        "\n",
        "# Codificamos categóricas\n",
        "encoder = OrdinalEncoder(handle_unknown=\"use_encoded_value\", unknown_value=-1)\n",
        "X_cat_encoded = encoder.fit_transform(X_sample_filled[cat_cols_simple])\n",
        "\n",
        "# Procesamos numéricas\n",
        "X_num = X_sample_filled[num_cols_simple].replace(\"na\", np.nan).astype(float)\n",
        "X_num_imputed = SimpleImputer(strategy=\"mean\").fit_transform(X_num)\n",
        "X_num_scaled = StandardScaler().fit_transform(X_num_imputed)\n",
        "\n",
        "# Final: datos listos\n",
        "X_final_sample = np.hstack([X_cat_encoded, X_num_scaled])\n",
        "\n"
      ]
    },
    {
      "cell_type": "code",
      "source": [
        "from sklearn.ensemble import RandomForestClassifier\n",
        "from sklearn.model_selection import train_test_split\n",
        "from sklearn.metrics import classification_report, accuracy_score\n",
        "\n",
        "# Usa las variables preprocesadas\n",
        "X_train, X_test, y_train, y_test = train_test_split(\n",
        "    X_final_sample, y_sample, test_size=0.2, random_state=42, stratify=y_sample\n",
        ")\n",
        "\n",
        "# Entrenar modelo\n",
        "clf = RandomForestClassifier(n_estimators=100, random_state=42)\n",
        "clf.fit(X_train, y_train)\n",
        "\n",
        "# Predicción\n",
        "y_pred = clf.predict(X_test)\n",
        "\n",
        "# Cálculo de métricas\n",
        "accuracy = accuracy_score(y_test, y_pred)\n",
        "report = classification_report(y_test, y_pred)"
      ],
      "metadata": {
        "id": "CZUC-7d-lUw4"
      },
      "execution_count": null,
      "outputs": []
    },
    {
      "cell_type": "code",
      "source": [
        "print(\"Accuracy:\", accuracy)\n",
        "print(report)"
      ],
      "metadata": {
        "colab": {
          "base_uri": "https://localhost:8080/"
        },
        "id": "8-KZnWuKk9OG",
        "outputId": "14140654-b50f-446b-b9c0-885fde28eeb6"
      },
      "execution_count": null,
      "outputs": [
        {
          "output_type": "stream",
          "name": "stdout",
          "text": [
            "Accuracy: 0.3355\n",
            "              precision    recall  f1-score   support\n",
            "\n",
            "        alto       0.41      0.46      0.43      1010\n",
            "        bajo       0.36      0.38      0.37       985\n",
            "  medio-alto       0.27      0.24      0.25       991\n",
            "  medio-bajo       0.29      0.26      0.27      1014\n",
            "\n",
            "    accuracy                           0.34      4000\n",
            "   macro avg       0.33      0.34      0.33      4000\n",
            "weighted avg       0.33      0.34      0.33      4000\n",
            "\n"
          ]
        }
      ]
    }
  ]
}